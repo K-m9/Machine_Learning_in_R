{
 "cells": [
  {
   "cell_type": "code",
   "execution_count": 1,
   "id": "48936913-4f27-4b33-93d5-6568e3e9459f",
   "metadata": {},
   "outputs": [],
   "source": [
    "from IPython.core.interactiveshell import InteractiveShell\n",
    "InteractiveShell.ast_node_interactivity = \"all\""
   ]
  },
  {
   "cell_type": "markdown",
   "id": "54a6ea6a-a97f-471c-bfe4-a0310a7440f4",
   "metadata": {},
   "source": [
    "# TF-IDF"
   ]
  },
  {
   "cell_type": "markdown",
   "id": "936f76e4-d99e-4dcb-99d4-1e1c0eccad91",
   "metadata": {},
   "source": [
    "IDF不变，只有改变TF值，才能改变TF-IDF"
   ]
  },
  {
   "cell_type": "markdown",
   "id": "ba6edcaf-e33b-46e3-a3a3-16e3b3b523d4",
   "metadata": {},
   "source": [
    "## 语料库 "
   ]
  },
  {
   "cell_type": "code",
   "execution_count": 2,
   "id": "4aac2f5e-3cb3-4beb-a8c1-0c2cdb51d91f",
   "metadata": {},
   "outputs": [],
   "source": [
    "corpus = [\n",
    "    'this is the first document',\n",
    "    'this is the second second document',\n",
    "    'and the third one',\n",
    "    'is this the first document'\n",
    "]"
   ]
  },
  {
   "cell_type": "markdown",
   "id": "9b90ca27-3a9b-47cc-9166-f57136303c12",
   "metadata": {},
   "source": [
    "## 语料库分词"
   ]
  },
  {
   "cell_type": "code",
   "execution_count": 3,
   "id": "e8a64f97-75fd-4ab7-97e9-34e2312596dd",
   "metadata": {},
   "outputs": [
    {
     "name": "stdout",
     "output_type": "stream",
     "text": [
      "[['this', 'is', 'the', 'first', 'document'], ['this', 'is', 'the', 'second', 'second', 'document'], ['and', 'the', 'third', 'one'], ['is', 'this', 'the', 'first', 'document']]\n"
     ]
    }
   ],
   "source": [
    "word_list = []\n",
    "for i in range(len(corpus)):\n",
    "    word_list.append(corpus[i].split(' '))\n",
    "print(word_list)"
   ]
  },
  {
   "cell_type": "markdown",
   "id": "c24cb4b7-b948-4cdb-882c-abc86b48369d",
   "metadata": {},
   "source": [
    "## 算法 "
   ]
  },
  {
   "cell_type": "markdown",
   "id": "f2b072f8-2239-4db5-91de-4af1cc9e09a0",
   "metadata": {},
   "source": [
    "### 利用python手动实现计算TF-IDF "
   ]
  },
  {
   "cell_type": "markdown",
   "id": "bf47e082-fc6b-4dcb-a4a5-938b33b69bb0",
   "metadata": {},
   "source": [
    "$$TF = \\frac{某个词在文章中出现次数}{文章总词数}$$\n",
    "$$IDF = log(\\frac{语料库的文档总数}{包含该词的文档数+1})$$\n",
    "分母之所以要加1，是为了避免分母为0（即所有文档都不包含该词）"
   ]
  },
  {
   "cell_type": "markdown",
   "id": "30897757-6d6c-457f-b5b9-cabd6c10bbc6",
   "metadata": {},
   "source": [
    "- 统计词频"
   ]
  },
  {
   "cell_type": "code",
   "execution_count": 4,
   "id": "62eee8a2-f0d0-4db5-9343-ca6e7c9f484b",
   "metadata": {},
   "outputs": [
    {
     "data": {
      "text/plain": [
       "[Counter({'this': 1, 'is': 1, 'the': 1, 'first': 1, 'document': 1}),\n",
       " Counter({'this': 1, 'is': 1, 'the': 1, 'second': 2, 'document': 1}),\n",
       " Counter({'and': 1, 'the': 1, 'third': 1, 'one': 1}),\n",
       " Counter({'is': 1, 'this': 1, 'the': 1, 'first': 1, 'document': 1})]"
      ]
     },
     "execution_count": 4,
     "metadata": {},
     "output_type": "execute_result"
    }
   ],
   "source": [
    "from collections import Counter\n",
    "countlist = []\n",
    "for i in range(len(word_list)):\n",
    "    count = Counter(word_list[i])\n",
    "    countlist.append(count)\n",
    "countlist"
   ]
  },
  {
   "cell_type": "markdown",
   "id": "92d58160-31c4-4b2a-b401-dd50d2888e09",
   "metadata": {},
   "source": [
    "- 定义计算tfidf公式的函数"
   ]
  },
  {
   "cell_type": "code",
   "execution_count": 5,
   "id": "98bd1f92-fce7-4f2f-a9fe-594cbca2de89",
   "metadata": {},
   "outputs": [],
   "source": [
    "# word可以通过count得到，count可以通过countlist得到\n",
    "\n",
    "# count[word]可以得到每个单词的词频， sum(count.values())得到整个句子的单词总数\n",
    "def tf(word, count):\n",
    "    return count[word] / sum(count.values())\n",
    "\n",
    "# 统计的是含有该单词的句子数\n",
    "def n_containing(word, count_list):\n",
    "    return sum(1 for count in count_list if word in count)\n",
    " \n",
    "# len(count_list)是指句子的总数，n_containing(word, count_list)是指含有该单词的句子的总数，加1是为了防止分母为0\n",
    "def idf(word, count_list):\n",
    "    return math.log(len(count_list) / (1 + n_containing(word, count_list)))\n",
    "\n",
    "# 将tf和idf相乘\n",
    "def tfidf(word, count, count_list):\n",
    "    return tf(word, count) * idf(word, count_list)        "
   ]
  },
  {
   "cell_type": "markdown",
   "id": "f88ba33b-9111-4520-8a27-c7e94891fb18",
   "metadata": {},
   "source": [
    "- 计算每个单词的tfidf值"
   ]
  },
  {
   "cell_type": "code",
   "execution_count": 6,
   "id": "0226fb59-e371-4d4f-8660-6f3f563944f8",
   "metadata": {},
   "outputs": [
    {
     "name": "stdout",
     "output_type": "stream",
     "text": [
      "Top words in document 1\n",
      "\tWord: first, TF-IDF: 0.05754\n",
      "\tWord: this, TF-IDF: 0.0\n",
      "\tWord: is, TF-IDF: 0.0\n",
      "\tWord: document, TF-IDF: 0.0\n",
      "\tWord: the, TF-IDF: -0.04463\n",
      "Top words in document 2\n",
      "\tWord: second, TF-IDF: 0.23105\n",
      "\tWord: this, TF-IDF: 0.0\n",
      "\tWord: is, TF-IDF: 0.0\n",
      "\tWord: document, TF-IDF: 0.0\n",
      "\tWord: the, TF-IDF: -0.03719\n",
      "Top words in document 3\n",
      "\tWord: and, TF-IDF: 0.17329\n",
      "\tWord: third, TF-IDF: 0.17329\n",
      "\tWord: one, TF-IDF: 0.17329\n",
      "\tWord: the, TF-IDF: -0.05579\n",
      "Top words in document 4\n",
      "\tWord: first, TF-IDF: 0.05754\n",
      "\tWord: is, TF-IDF: 0.0\n",
      "\tWord: this, TF-IDF: 0.0\n",
      "\tWord: document, TF-IDF: 0.0\n",
      "\tWord: the, TF-IDF: -0.04463\n"
     ]
    }
   ],
   "source": [
    "import math\n",
    "for i, count in enumerate(countlist):\n",
    "    print(\"Top words in document {}\".format(i + 1))\n",
    "    scores = {word: tfidf(word, count, countlist) for word in count}\n",
    "    sorted_words = sorted(scores.items(), key=lambda x: x[1], reverse=True)\n",
    "    for word, score in sorted_words[:]:\n",
    "        print(\"\\tWord: {}, TF-IDF: {}\".format(word, round(score, 5)))"
   ]
  },
  {
   "cell_type": "markdown",
   "id": "11a49402-791e-4b9b-9bbf-3d6a69eb2b6e",
   "metadata": {},
   "source": [
    "### 用gensim库计算TF-IDF "
   ]
  },
  {
   "cell_type": "markdown",
   "id": "82cc36af-455f-4018-be3b-7c94ae220185",
   "metadata": {},
   "source": [
    "优缺点：\n",
    "- gensim训练出来的tf-idf值左边是词的id，右边是词的tfidf值\n",
    "- gensim有自动去除停用词的功能，比如the\n",
    "- gensim会自动去除单个字母，比如i\n",
    "- gensim会去除没有被训练到的词，比如name\n",
    "- 所以通过gensim并不能计算每个单词的tfidf值"
   ]
  },
  {
   "cell_type": "markdown",
   "id": "20dd2dcf-3f33-4b76-9990-ed218a65d2ca",
   "metadata": {},
   "source": [
    "- 得到每个词的id值及词频"
   ]
  },
  {
   "cell_type": "code",
   "execution_count": 7,
   "id": "8bd33bb2-9f4d-43e4-80f5-25496ef6aa55",
   "metadata": {},
   "outputs": [
    {
     "name": "stdout",
     "output_type": "stream",
     "text": [
      "(id,frequency) [[(0, 1), (1, 1), (2, 1), (3, 1), (4, 1)], [(0, 1), (2, 1), (3, 1), (4, 1), (5, 2)], [(3, 1), (6, 1), (7, 1), (8, 1)], [(0, 1), (1, 1), (2, 1), (3, 1), (4, 1)]]\n"
     ]
    }
   ],
   "source": [
    "from gensim import corpora\n",
    "# 赋给语料库中每个词(不重复的词)一个整数id\n",
    "dictionary = corpora.Dictionary(word_list)\n",
    "new_corpus = [dictionary.doc2bow(text) for text in word_list]\n",
    "print(\"(id,frequency)\",new_corpus)\n",
    "# 元组中第一个元素是词语在词典中对应的id，第二个元素是词语在文档中出现的次数"
   ]
  },
  {
   "cell_type": "code",
   "execution_count": 8,
   "id": "70763385-72e1-410d-96a8-0316904783e6",
   "metadata": {},
   "outputs": [
    {
     "name": "stdout",
     "output_type": "stream",
     "text": [
      "{'document': 0, 'first': 1, 'is': 2, 'the': 3, 'this': 4, 'second': 5, 'and': 6, 'one': 7, 'third': 8}\n"
     ]
    }
   ],
   "source": [
    " # 通过下面的方法可以看到语料库中每个词对应的id\n",
    "print(dictionary.token2id)"
   ]
  },
  {
   "cell_type": "markdown",
   "id": "4db2ca46-999c-40f9-b8ff-9dc4229f6a96",
   "metadata": {},
   "source": [
    "- 训练gensim模型并且保存它以便后面的使用"
   ]
  },
  {
   "cell_type": "code",
   "execution_count": 9,
   "id": "aae7bd29-0467-4b62-8667-33b747e86550",
   "metadata": {},
   "outputs": [
    {
     "name": "stdout",
     "output_type": "stream",
     "text": [
      "[[(0, 0.33699829595119235), (1, 0.8119707171924228), (2, 0.33699829595119235), (4, 0.33699829595119235)], [(0, 0.10212329019650272), (2, 0.10212329019650272), (4, 0.10212329019650272), (5, 0.9842319344536239)], [(6, 0.5773502691896258), (7, 0.5773502691896258), (8, 0.5773502691896258)], [(0, 0.33699829595119235), (1, 0.8119707171924228), (2, 0.33699829595119235), (4, 0.33699829595119235)]]\n"
     ]
    }
   ],
   "source": [
    "# 训练模型并保存\n",
    "from gensim import models\n",
    "tfidf = models.TfidfModel(new_corpus)\n",
    "tfidf.save(\"my_model.tfidf\")\n",
    "\n",
    "# 载入模型\n",
    "tfidf = models.TfidfModel.load(\"my_model.tfidf\")\n",
    "\n",
    "# 使用这个训练好的模型得到单词的tfidf值\n",
    "tfidf_vec = []\n",
    "for i in range(len(corpus)):\n",
    "    string = corpus[i]\n",
    "    string_bow = dictionary.doc2bow(string.lower().split()) # Convert `document` into the bag-of-words (BoW) format = list of `(token_id, token_count)` tuples\n",
    "    string_tfidf = tfidf[string_bow]\n",
    "    tfidf_vec.append(string_tfidf)\n",
    "print(tfidf_vec)"
   ]
  },
  {
   "cell_type": "markdown",
   "id": "1b5013bb-7ed8-4285-a751-818090cdc901",
   "metadata": {},
   "source": [
    "#### 测试集 "
   ]
  },
  {
   "cell_type": "code",
   "execution_count": 10,
   "id": "9b387523-5745-4176-97b3-3997f67f9292",
   "metadata": {},
   "outputs": [
    {
     "name": "stdout",
     "output_type": "stream",
     "text": [
      "[(1, 0.4472135954999579), (5, 0.8944271909999159)]\n"
     ]
    }
   ],
   "source": [
    "string = 'the i first second name'\n",
    "string_bow = dictionary.doc2bow(string.lower().split())\n",
    "string_tfidf = tfidf[string_bow]\n",
    "print(string_tfidf)"
   ]
  },
  {
   "cell_type": "markdown",
   "id": "9cb5ed47-039a-493a-92dc-ab2015eac31b",
   "metadata": {},
   "source": [
    "### 用sklearn库计算TF-IDF "
   ]
  },
  {
   "cell_type": "code",
   "execution_count": 11,
   "id": "3d8df459-15b6-446b-a0ae-4eae34dce140",
   "metadata": {},
   "outputs": [
    {
     "name": "stdout",
     "output_type": "stream",
     "text": [
      "['and', 'document', 'first', 'is', 'one', 'second', 'the', 'third', 'this']\n",
      "{'this': 8, 'is': 3, 'the': 6, 'first': 2, 'document': 1, 'second': 5, 'and': 0, 'third': 7, 'one': 4}\n",
      "[[0.         0.43877674 0.54197657 0.43877674 0.         0.\n",
      "  0.35872874 0.         0.43877674]\n",
      " [0.         0.27230147 0.         0.27230147 0.         0.85322574\n",
      "  0.22262429 0.         0.27230147]\n",
      " [0.55280532 0.         0.         0.         0.55280532 0.\n",
      "  0.28847675 0.55280532 0.        ]\n",
      " [0.         0.43877674 0.54197657 0.43877674 0.         0.\n",
      "  0.35872874 0.         0.43877674]]\n"
     ]
    }
   ],
   "source": [
    "from sklearn.feature_extraction.text import TfidfVectorizer\n",
    "tfidf_vec = TfidfVectorizer()\n",
    "tfidf_matrix = tfidf_vec.fit_transform(corpus)\n",
    "\n",
    "# 得到语料库所有不重复的词\n",
    "print(tfidf_vec.get_feature_names())\n",
    "\n",
    "# 得到每个单词对应的id值\n",
    "print(tfidf_vec.vocabulary_)\n",
    "\n",
    "# 得到每个句子所对应的向量\n",
    "# 向量里数字的顺序是按照词语的id顺序来的\n",
    "print(tfidf_matrix.toarray())"
   ]
  },
  {
   "cell_type": "markdown",
   "id": "02393ef5-97ca-41f8-8941-29d591819f3a",
   "metadata": {},
   "source": [
    "### 用jieba.analyse库计算TF-IDF "
   ]
  },
  {
   "cell_type": "markdown",
   "id": "2a61adf0-c523-4d1e-8910-ee1a214aaf57",
   "metadata": {},
   "source": [
    "缺点：\n",
    "基于该框架的TF-IDF效果一般，在垂直领域效果不一定好，适用于通用领域。\n",
    "- 该框架使用的是默认IDF值的文件（不是针对项目文件计算的IDF）\n",
    "- IDF本身是先有词才能计算，而该框架是先提供IDF值才能计算最终TF-IDF值。"
   ]
  },
  {
   "cell_type": "code",
   "execution_count": 12,
   "id": "48048b1d-d2e3-4c72-acc2-eb918d797b80",
   "metadata": {},
   "outputs": [],
   "source": [
    "import jieba.analyse"
   ]
  },
  {
   "cell_type": "code",
   "execution_count": 13,
   "id": "d66be295-b03b-4f44-8e9e-1df3219cb4a5",
   "metadata": {},
   "outputs": [],
   "source": [
    "content = \"此外，公司拟对全资子公司吉林欧亚置业有限公司增资4.3亿元，增资后，吉林欧亚置业注册资本有7000万元增加至10000万元\""
   ]
  },
  {
   "cell_type": "markdown",
   "id": "b503fcff-9bf3-4372-bb01-ea53caa3aa5a",
   "metadata": {},
   "source": [
    "- jieba.analyse.TFIDF(idf_path=None) 新建 TFIDF 实例， idf_path 为 IDF 频率文件\n",
    "    - idf默认为jieba内置语料库计算而得\n",
    "    - idf_path在实际使用时，需要替换对应语料库的路径"
   ]
  },
  {
   "cell_type": "code",
   "execution_count": 14,
   "id": "8c9a39e5-47d3-4268-adbb-4507f05c49df",
   "metadata": {},
   "outputs": [],
   "source": [
    "jieba.analyse.set_idf_path('./word_dict/word.txt') # file_name 为自定义语料库路径"
   ]
  },
  {
   "cell_type": "code",
   "execution_count": 15,
   "id": "d2171162-a17b-4eb7-b59d-b9ef9a03a38a",
   "metadata": {},
   "outputs": [
    {
     "name": "stderr",
     "output_type": "stream",
     "text": [
      "Building prefix dict from the default dictionary ...\n",
      "Loading model from cache C:\\Users\\13416\\AppData\\Local\\Temp\\jieba.cache\n",
      "Loading model cost 0.426 seconds.\n",
      "Prefix dict has been built successfully.\n"
     ]
    },
    {
     "data": {
      "text/plain": [
       "['吉林',\n",
       " '增资',\n",
       " '欧亚',\n",
       " '置业',\n",
       " '此外',\n",
       " '全资',\n",
       " '有限公司',\n",
       " '4.3',\n",
       " '注册资本',\n",
       " '7000',\n",
       " '增加',\n",
       " '10000',\n",
       " '万元',\n",
       " '子公司',\n",
       " '亿元',\n",
       " '公司']"
      ]
     },
     "execution_count": 15,
     "metadata": {},
     "output_type": "execute_result"
    }
   ],
   "source": [
    "tags = jieba.analyse.extract_tags(content, topK=20, withWeight = False, allowPOS=())\n",
    "tags"
   ]
  },
  {
   "cell_type": "code",
   "execution_count": 16,
   "id": "64308e71-04a3-463b-84cd-aae47bb490a7",
   "metadata": {},
   "outputs": [],
   "source": [
    "# 关键词提取所使用的停止词（stop words）文本语料库可以切换成自定义语料库的路径\n",
    "jieba.analyse.set_stop_words('./word_dict/stopwords.txt')"
   ]
  },
  {
   "cell_type": "markdown",
   "id": "d3f4f2d3-7150-4729-b910-b70fd3855b33",
   "metadata": {},
   "source": [
    "- sentence 为待提取文本\n",
    "- topK 提取前多少个关键字\n",
    "- withWeight 是否返回每个关键词的权重\n",
    "- allowPOS是允许的提取的词性，allowPOS=‘ns’, ‘n’, ‘vn’, ‘v’，提取地名、名词、动名词、动词，默认为空，即不筛选"
   ]
  },
  {
   "cell_type": "code",
   "execution_count": 17,
   "id": "25084668-d446-42cb-bc5e-bf0888a4df7d",
   "metadata": {},
   "outputs": [
    {
     "name": "stdout",
     "output_type": "stream",
     "text": [
      "吉林 1.1385492859904762\n",
      "增资 1.1385492859904762\n",
      "欧亚 0.8169207307466667\n",
      "置业 0.7291915001247619\n",
      "此外 0.5692746429952381\n",
      "全资 0.5692746429952381\n",
      "有限公司 0.5692746429952381\n",
      "4.3 0.5692746429952381\n",
      "注册资本 0.5692746429952381\n",
      "7000 0.5692746429952381\n",
      "增加 0.5692746429952381\n",
      "10000 0.5692746429952381\n",
      "万元 0.5062157353885715\n",
      "子公司 0.32667339341714285\n",
      "亿元 0.21423289597285716\n",
      "公司 0.1668319020752381\n"
     ]
    }
   ],
   "source": [
    "for word, weight in jieba.analyse.extract_tags(content, withWeight=True):\n",
    "    print(\"%s %s\" % (word, weight))"
   ]
  },
  {
   "cell_type": "code",
   "execution_count": null,
   "id": "b7570d8b-788e-4b82-ad9e-d438a861634b",
   "metadata": {},
   "outputs": [],
   "source": []
  }
 ],
 "metadata": {
  "kernelspec": {
   "display_name": "Python 3",
   "language": "python",
   "name": "python3"
  },
  "language_info": {
   "codemirror_mode": {
    "name": "ipython",
    "version": 3
   },
   "file_extension": ".py",
   "mimetype": "text/x-python",
   "name": "python",
   "nbconvert_exporter": "python",
   "pygments_lexer": "ipython3",
   "version": "3.8.10"
  },
  "toc-autonumbering": true
 },
 "nbformat": 4,
 "nbformat_minor": 5
}
